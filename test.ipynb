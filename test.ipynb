{
 "cells": [
  {
   "cell_type": "code",
   "execution_count": 1,
   "metadata": {},
   "outputs": [],
   "source": [
    "from langchain_community.embeddings import OllamaEmbeddings\n",
    "from langchain_chroma.vectorstores import Chroma\n",
    "from langchain_community.llms import Ollama\n",
    "from langchain.prompts import PromptTemplate\n",
    "from langchain.retrievers.multi_query import MultiQueryRetriever\n",
    "from langchain.prompts import ChatPromptTemplate\n",
    "from langchain_core.runnables import RunnablePassthrough\n",
    "from langchain_core.output_parsers import StrOutputParser"
   ]
  },
  {
   "cell_type": "code",
   "execution_count": 2,
   "metadata": {},
   "outputs": [
    {
     "name": "stdout",
     "output_type": "stream",
     "text": [
      "database loaded\n"
     ]
    }
   ],
   "source": [
    "# Load the persisted ChromaDB vector store\n",
    "embedding = OllamaEmbeddings(model=\"nomic-embed-text\", show_progress=True)\n",
    "persist_directory = \"./db\"\n",
    "\n",
    "vector_database = Chroma(\n",
    "    collection_name=\"local-rag\",\n",
    "    persist_directory=persist_directory,\n",
    "    embedding_function=embedding\n",
    ")\n",
    "print('database loaded')"
   ]
  },
  {
   "cell_type": "code",
   "execution_count": 3,
   "metadata": {},
   "outputs": [],
   "source": [
    "# Initialize the Ollama LLaMA 3.1 model\n",
    "llm = Ollama(model=\"llama3.1\")\n",
    "\n",
    "QUERY_PROMPT = PromptTemplate(\n",
    "    input_variables=[\"question\"],\n",
    "    template=\"\"\"You are an AI language model specialized in physics. Your task is to reformulate the following question into five different versions to retrieve the most relevant physics documents.\n",
    "    Original question: {question}\"\"\",\n",
    ")\n",
    "\n",
    "retriever = MultiQueryRetriever.from_llm(\n",
    "    vector_database.as_retriever(search_kwargs={\"k\": 3}),\n",
    "    llm,\n",
    "    prompt=QUERY_PROMPT\n",
    ")\n",
    "\n",
    "# RAG prompt\n",
    "template = \"\"\"You are a helpful assistant trained to answer physics questions based on the provided context.\n",
    "Use only the context below to answer the following question as clearly as possible:\n",
    "{context}\n",
    "Question: {question}\n",
    "\"\"\"\n",
    "\n",
    "prompt = ChatPromptTemplate.from_template(template)"
   ]
  },
  {
   "cell_type": "code",
   "execution_count": 4,
   "metadata": {},
   "outputs": [],
   "source": [
    "def post_process_answer(answer):\n",
    "    # Ensure the answer is focused on the physics topic\n",
    "    # Optionally trim any irrelevant parts or hallucinated information\n",
    "    processed_ans =  answer.split(\"Answer:\")[-1].strip()\n",
    "    return processed_ans if processed_ans else \"No relevant info found in the context...\"\n"
   ]
  },
  {
   "cell_type": "code",
   "execution_count": 5,
   "metadata": {},
   "outputs": [],
   "source": [
    "chain = (\n",
    "    {\"context\": retriever, \"question\": RunnablePassthrough()}\n",
    "    | prompt\n",
    "    | llm\n",
    "    | StrOutputParser()\n",
    ")"
   ]
  },
  {
   "cell_type": "code",
   "execution_count": 6,
   "metadata": {},
   "outputs": [],
   "source": [
    "def getAns(query):\n",
    "    answer = chain.invoke(query)\n",
    "    final_ans = post_process_answer(answer)\n",
    "    return query+'\\n'+final_ans"
   ]
  },
  {
   "cell_type": "code",
   "execution_count": 7,
   "metadata": {},
   "outputs": [
    {
     "name": "stderr",
     "output_type": "stream",
     "text": [
      "OllamaEmbeddings: 100%|██████████| 1/1 [00:04<00:00,  4.06s/it]\n",
      "OllamaEmbeddings: 100%|██████████| 1/1 [00:02<00:00,  2.07s/it]\n",
      "OllamaEmbeddings: 100%|██████████| 1/1 [00:02<00:00,  2.07s/it]\n",
      "OllamaEmbeddings: 100%|██████████| 1/1 [00:02<00:00,  2.09s/it]\n",
      "OllamaEmbeddings: 100%|██████████| 1/1 [00:02<00:00,  2.14s/it]\n",
      "OllamaEmbeddings: 100%|██████████| 1/1 [00:02<00:00,  2.14s/it]\n",
      "OllamaEmbeddings: 100%|██████████| 1/1 [00:02<00:00,  2.19s/it]\n",
      "OllamaEmbeddings: 100%|██████████| 1/1 [00:02<00:00,  2.15s/it]\n",
      "OllamaEmbeddings: 100%|██████████| 1/1 [00:02<00:00,  2.15s/it]\n",
      "OllamaEmbeddings: 100%|██████████| 1/1 [00:02<00:00,  2.17s/it]\n",
      "OllamaEmbeddings: 100%|██████████| 1/1 [00:02<00:00,  2.15s/it]\n",
      "OllamaEmbeddings: 100%|██████████| 1/1 [00:02<00:00,  2.15s/it]\n"
     ]
    },
    {
     "name": "stdout",
     "output_type": "stream",
     "text": [
      "Rotational motion refers to the movement of an object around a fixed axis, resulting in a change in its orientation or position without necessarily changing its location. This type of motion involves rotation about a pivot point or fulcrum and can be described using parameters such as angular displacement, velocity, acceleration, and torque.\n",
      "\n",
      "Key characteristics of rotational motion include:\n",
      "\n",
      "1. **Rotation**: The object moves around an axis, which is perpendicular to the plane of motion.\n",
      "2. **Angular Displacement (θ)**: Measures how much the object has turned from its initial position.\n",
      "3. **Angular Velocity (ω)**: Describes the rate at which the object rotates; it's often measured in radians per second.\n",
      "4. **Rotational Speed**: Refers to the speed of rotation, usually expressed as revolutions per minute (RPM) or revolutions per second (RPS).\n",
      "5. **Torque**: Measures the twisting force that causes the rotational motion.\n",
      "\n",
      "Examples of rotational motion include:\n",
      "\n",
      "- A child spinning around on a merry-go-round.\n",
      "- An engine rotating a car's wheels.\n",
      "- The Earth rotating on its axis, causing day and night cycles.\n",
      "- A dancer twirling in a ballet performance.\n",
      "- Water swirling down a drain due to rotational forces.\n",
      "\n",
      "Understanding rotational motion is essential in various fields, including physics, engineering, and technology, as it plays a significant role in many real-world applications.\n"
     ]
    }
   ],
   "source": [
    "print(getAns(input()))"
   ]
  }
 ],
 "metadata": {
  "kernelspec": {
   "display_name": "Python 3",
   "language": "python",
   "name": "python3"
  },
  "language_info": {
   "codemirror_mode": {
    "name": "ipython",
    "version": 3
   },
   "file_extension": ".py",
   "mimetype": "text/x-python",
   "name": "python",
   "nbconvert_exporter": "python",
   "pygments_lexer": "ipython3",
   "version": "3.12.0"
  }
 },
 "nbformat": 4,
 "nbformat_minor": 2
}
